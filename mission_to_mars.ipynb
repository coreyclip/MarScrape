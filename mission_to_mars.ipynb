{
 "cells": [
  {
   "cell_type": "code",
   "execution_count": 28,
   "metadata": {},
   "outputs": [],
   "source": [
    "import pandas as pd\n",
    "import requests\n",
    "from bs4 import BeautifulSoup as bs\n",
    "import time\n",
    "from splinter import Browser"
   ]
  },
  {
   "cell_type": "code",
   "execution_count": 26,
   "metadata": {},
   "outputs": [
    {
     "ename": "NameError",
     "evalue": "name 'webdriver' is not defined",
     "output_type": "error",
     "traceback": [
      "\u001b[1;31m---------------------------------------------------------------------------\u001b[0m",
      "\u001b[1;31mNameError\u001b[0m                                 Traceback (most recent call last)",
      "\u001b[1;32m<ipython-input-26-143eaad21b10>\u001b[0m in \u001b[0;36m<module>\u001b[1;34m()\u001b[0m\n\u001b[0;32m      1\u001b[0m \u001b[1;31m# url for the NASA news site\u001b[0m\u001b[1;33m\u001b[0m\u001b[1;33m\u001b[0m\u001b[0m\n\u001b[1;32m----> 2\u001b[1;33m \u001b[0mbrowswer\u001b[0m \u001b[1;33m=\u001b[0m \u001b[0mwebdriver\u001b[0m\u001b[1;33m.\u001b[0m\u001b[0mFirefox\u001b[0m\u001b[1;33m(\u001b[0m\u001b[1;33m)\u001b[0m\u001b[1;33m\u001b[0m\u001b[0m\n\u001b[0m\u001b[0;32m      3\u001b[0m \u001b[0murl\u001b[0m \u001b[1;33m=\u001b[0m \u001b[1;34m\"https://mars.nasa.gov/news/\"\u001b[0m\u001b[1;33m\u001b[0m\u001b[0m\n\u001b[0;32m      4\u001b[0m \u001b[0mbrowser\u001b[0m\u001b[1;33m.\u001b[0m\u001b[0mget\u001b[0m\u001b[1;33m(\u001b[0m\u001b[0murl\u001b[0m\u001b[1;33m)\u001b[0m\u001b[1;33m\u001b[0m\u001b[0m\n\u001b[0;32m      5\u001b[0m \u001b[0mtime\u001b[0m\u001b[1;33m.\u001b[0m\u001b[0msleep\u001b[0m\u001b[1;33m(\u001b[0m\u001b[1;36m10\u001b[0m\u001b[1;33m)\u001b[0m\u001b[1;33m\u001b[0m\u001b[0m\n",
      "\u001b[1;31mNameError\u001b[0m: name 'webdriver' is not defined"
     ]
    }
   ],
   "source": [
    "# url for the NASA news site\n",
    "browswer = webdriver.Firefox()\n",
    "url = \"https://mars.nasa.gov/news/\"\n",
    "browser.get(url)\n",
    "time.sleep(10)\n",
    "#print(response.text)\n",
    "soup = bs(browser.page_source, 'html.parser')"
   ]
  },
  {
   "cell_type": "markdown",
   "metadata": {},
   "source": [
    "## Getting content titles\n",
    "We'll start by first scraping out the titles for each of nasa's news articles\n",
    "once we have these we'll scrape the text associated with each. From there we can  sort these into dictionaries\n",
    "\n",
    " * find_all returns a bs4 element, we can use bs4 methods on it \n",
    " * to query the a tags in the content_titles and then just print out the strings\n",
    "   associated with them \n",
    " * we will perform a similar operation for the content associated with the titles"
   ]
  },
  {
   "cell_type": "code",
   "execution_count": 17,
   "metadata": {
    "scrolled": true
   },
   "outputs": [
    {
     "name": "stdout",
     "output_type": "stream",
     "text": [
      "-0--0--0--0--0--0--0--0--0--0-\n",
      "\n",
      "NASA Invests in Visionary Technology \n",
      "\n",
      "-0--0--0--0--0--0--0--0--0--0-\n",
      "\n",
      "NASA is Ready to Study the Heart of Mars\n",
      "\n",
      "-0--0--0--0--0--0--0--0--0--0-\n",
      "\n",
      "NASA Briefing on First Mission to Study Mars Interior\n",
      "\n",
      "-0--0--0--0--0--0--0--0--0--0-\n",
      "\n",
      "New 'AR' Mobile App Features 3-D NASA Spacecraft\n",
      "\n",
      "-0--0--0--0--0--0--0--0--0--0-\n",
      "\n",
      "Witness First Mars Launch from West Coast\n",
      "\n",
      "-0--0--0--0--0--0--0--0--0--0-\n",
      "\n",
      "NASA InSight Mission to Mars Arrives at Launch Site\n",
      "\n"
     ]
    }
   ],
   "source": [
    "#all the div tags with the class 'content_title'\n",
    "titles = []\n",
    "for title in soup.find_all(\"div\", class_='content_title'):\n",
    "    print(\"-0-\" * 10)\n",
    "    title_string = title.find('a').string\n",
    "    print(title_string)\n",
    "    titles.append(title_string)"
   ]
  },
  {
   "cell_type": "code",
   "execution_count": 18,
   "metadata": {},
   "outputs": [],
   "source": [
    "# all the div tags with article_teaser_body class\n",
    "teasers = []\n",
    "for text in soup.find_all(\"div\", class_='article_teaser_body'):\n",
    "    print(\"-0-\" * 10)\n",
    "    teaser_text = text.find('p').string\n",
    "    print(teaser_text)\n",
    "    teasers.append(teaser_text)\n",
    "   "
   ]
  },
  {
   "cell_type": "code",
   "execution_count": 19,
   "metadata": {},
   "outputs": [
    {
     "data": {
      "text/plain": [
       "[]"
      ]
     },
     "execution_count": 19,
     "metadata": {},
     "output_type": "execute_result"
    }
   ],
   "source": [
    "soup.find_all(\"div\", class_='article_teaser_body')"
   ]
  },
  {
   "cell_type": "code",
   "execution_count": null,
   "metadata": {},
   "outputs": [],
   "source": []
  }
 ],
 "metadata": {
  "kernelspec": {
   "display_name": "Python [conda env:PythonData]",
   "language": "python",
   "name": "conda-env-PythonData-py"
  },
  "language_info": {
   "codemirror_mode": {
    "name": "ipython",
    "version": 3
   },
   "file_extension": ".py",
   "mimetype": "text/x-python",
   "name": "python",
   "nbconvert_exporter": "python",
   "pygments_lexer": "ipython3",
   "version": "3.6.3"
  }
 },
 "nbformat": 4,
 "nbformat_minor": 2
}
